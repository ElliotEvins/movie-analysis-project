{
 "cells": [
  {
   "cell_type": "markdown",
   "metadata": {},
   "source": [
    "# Where's the money go? "
   ]
  },
  {
   "cell_type": "markdown",
   "metadata": {},
   "source": [
    "The previous notebook established a relationship between production budgets, revenue generation, and return on investment. Now we hope to look into what factors affect these variables."
   ]
  },
  {
   "cell_type": "code",
   "execution_count": 1,
   "metadata": {
    "jupyter": {
     "source_hidden": true
    }
   },
   "outputs": [],
   "source": [
    "import pandas as pd\n",
    "import matplotlib.pyplot as plt\n",
    "from scipy import stats\n",
    "import seaborn as sns\n",
    "sns.set(style=\"ticks\")"
   ]
  },
  {
   "cell_type": "code",
   "execution_count": 2,
   "metadata": {
    "collapsed": true,
    "jupyter": {
     "outputs_hidden": true,
     "source_hidden": true
    }
   },
   "outputs": [
    {
     "data": {
      "text/plain": [
       "Index(['Unnamed: 0', 'tconst', 'primary_title', 'original_title', 'start_year',\n",
       "       'runtime_minutes', 'averagerating', 'numvotes', 'Crime', 'War',\n",
       "       'Adventure', 'Biography', 'n/a', 'News', 'Sci-Fi', 'Animation',\n",
       "       'Fantasy', 'Short', 'Talk-Show', 'Thriller', 'Family', 'History',\n",
       "       'Horror', 'Drama', 'Reality-TV', 'Romance', 'Music', 'Action',\n",
       "       'Musical', 'Western', 'Game-Show', 'Mystery', 'Sport', 'Comedy',\n",
       "       'Documentary', 'Adult', 'director_1', 'director_2', 'director_3',\n",
       "       'writer_1', 'writer_2', 'writer_3', 'production_budget',\n",
       "       'domestic_gross', 'worldwide_gross', 'release_date', 'genre_ids', 'id',\n",
       "       'original_language', 'original_title_tmdb', 'popularity',\n",
       "       'release_date_tmdb', 'title', 'vote_average', 'vote_count'],\n",
       "      dtype='object')"
      ]
     },
     "execution_count": 2,
     "metadata": {},
     "output_type": "execute_result"
    }
   ],
   "source": [
    "#import data and clean column names:\n",
    "big_chungus = pd.read_csv('../etl_csvs/chungus_with_tmdb.csv')\n",
    "big_chungus.columns = ['Unnamed: 0', 'tconst', 'primary_title',\n",
    "       'original_title', 'start_year', 'runtime_minutes',\n",
    "       'averagerating', 'numvotes', 'Crime', 'War', 'Adventure', 'Biography',\n",
    "       'n/a', 'News', 'Sci-Fi', 'Animation', 'Fantasy', 'Short', 'Talk-Show',\n",
    "       'Thriller', 'Family', 'History', 'Horror', 'Drama', 'Reality-TV',\n",
    "       'Romance', 'Music', 'Action', 'Musical', 'Western', 'Game-Show',\n",
    "       'Mystery', 'Sport', 'Comedy', 'Documentary', 'Adult', 'director_1',\n",
    "       'director_2', 'director_3', 'writer_1', 'writer_2', 'writer_3',\n",
    "       'production_budget', 'domestic_gross', 'worldwide_gross',\n",
    "       'release_date', 'genre_ids', 'id', 'original_language',\n",
    "       'original_title_tmdb', 'popularity', 'release_date_tmdb', 'title',\n",
    "       'vote_average', 'vote_count']\n",
    "big_chungus.columns"
   ]
  },
  {
   "cell_type": "code",
   "execution_count": 3,
   "metadata": {
    "jupyter": {
     "source_hidden": true
    }
   },
   "outputs": [
    {
     "name": "stdout",
     "output_type": "stream",
     "text": [
      "<class 'pandas.core.frame.DataFrame'>\n",
      "RangeIndex: 146439 entries, 0 to 146438\n",
      "Data columns (total 39 columns):\n",
      "tconst               146439 non-null object\n",
      "primary_title        146439 non-null object\n",
      "release_date         3950 non-null object\n",
      "domestic_gross       3950 non-null float64\n",
      "worldwide_gross      3950 non-null float64\n",
      "production_budget    3950 non-null float64\n",
      "averagerating        74036 non-null float64\n",
      "runtime_minutes      114651 non-null float64\n",
      "popularity           19272 non-null float64\n",
      "director_1           140691 non-null object\n",
      "writer_1             110488 non-null object\n",
      "Crime                146439 non-null float64\n",
      "War                  146439 non-null float64\n",
      "Adventure            146439 non-null float64\n",
      "Biography            146439 non-null float64\n",
      "n/a                  146439 non-null float64\n",
      "News                 146439 non-null float64\n",
      "Sci-Fi               146439 non-null float64\n",
      "Animation            146439 non-null float64\n",
      "Fantasy              146439 non-null float64\n",
      "Short                146439 non-null float64\n",
      "Talk-Show            146439 non-null float64\n",
      "Thriller             146439 non-null float64\n",
      "Family               146439 non-null float64\n",
      "History              146439 non-null float64\n",
      "Horror               146439 non-null float64\n",
      "Drama                146439 non-null float64\n",
      "Reality-TV           146439 non-null float64\n",
      "Romance              146439 non-null float64\n",
      "Music                146439 non-null float64\n",
      "Action               146439 non-null float64\n",
      "Musical              146439 non-null float64\n",
      "Western              146439 non-null float64\n",
      "Game-Show            146439 non-null float64\n",
      "Mystery              146439 non-null float64\n",
      "Sport                146439 non-null float64\n",
      "Comedy               146439 non-null float64\n",
      "Documentary          146439 non-null float64\n",
      "Adult                146439 non-null float64\n",
      "dtypes: float64(34), object(5)\n",
      "memory usage: 43.6+ MB\n"
     ]
    }
   ],
   "source": [
    "#Extract useful columns\n",
    "pop_chungus = big_chungus[['tconst','primary_title', 'release_date',\n",
    "    'domestic_gross', 'worldwide_gross','production_budget',\n",
    "    'averagerating', 'runtime_minutes','popularity','director_1', 'writer_1',\n",
    "    'Crime', 'War','Adventure', 'Biography', 'n/a', 'News', 'Sci-Fi', \n",
    "    'Animation','Fantasy', 'Short', 'Talk-Show', 'Thriller', 'Family',\n",
    "    'History', 'Horror', 'Drama', 'Reality-TV', 'Romance', 'Music', 'Action',\n",
    "    'Musical', 'Western', 'Game-Show', 'Mystery', 'Sport', 'Comedy',\n",
    "    'Documentary', 'Adult']]\n",
    "pop_chungus.info()"
   ]
  },
  {
   "cell_type": "markdown",
   "metadata": {},
   "source": [
    "## This sheet will eventually get into discovering which genres of film are most popular but first let's establish the relationship between popularity and revenue:"
   ]
  },
  {
   "cell_type": "markdown",
   "metadata": {},
   "source": [
    "### Now we have our modules and data imported let's build the table we want to work with:"
   ]
  },
  {
   "cell_type": "code",
   "execution_count": 4,
   "metadata": {},
   "outputs": [
    {
     "name": "stderr",
     "output_type": "stream",
     "text": [
      "/Users/elliotevins/opt/anaconda3/envs/learn-env/lib/python3.6/site-packages/ipykernel_launcher.py:2: SettingWithCopyWarning: \n",
      "A value is trying to be set on a copy of a slice from a DataFrame.\n",
      "Try using .loc[row_indexer,col_indexer] = value instead\n",
      "\n",
      "See the caveats in the documentation: http://pandas.pydata.org/pandas-docs/stable/user_guide/indexing.html#returning-a-view-versus-a-copy\n",
      "  \n"
     ]
    }
   ],
   "source": [
    "money_chungus = pop_chungus[['popularity','domestic_gross', 'worldwide_gross', 'production_budget']]\n",
    "money_chungus['worldwide_roi'] = (money_chungus['worldwide_gross']-money_chungus['production_budget'])/money_chungus['production_budget']"
   ]
  },
  {
   "cell_type": "markdown",
   "metadata": {},
   "source": [
    "Clean it up a bit to dron Nan values:"
   ]
  },
  {
   "cell_type": "code",
   "execution_count": 5,
   "metadata": {},
   "outputs": [
    {
     "name": "stdout",
     "output_type": "stream",
     "text": [
      "<class 'pandas.core.frame.DataFrame'>\n",
      "Int64Index: 3051 entries, 20 to 146373\n",
      "Data columns (total 5 columns):\n",
      "popularity           3051 non-null float64\n",
      "domestic_gross       3051 non-null float64\n",
      "worldwide_gross      3051 non-null float64\n",
      "production_budget    3051 non-null float64\n",
      "worldwide_roi        3051 non-null float64\n",
      "dtypes: float64(5)\n",
      "memory usage: 143.0 KB\n"
     ]
    },
    {
     "name": "stderr",
     "output_type": "stream",
     "text": [
      "/Users/elliotevins/opt/anaconda3/envs/learn-env/lib/python3.6/site-packages/ipykernel_launcher.py:1: SettingWithCopyWarning: \n",
      "A value is trying to be set on a copy of a slice from a DataFrame\n",
      "\n",
      "See the caveats in the documentation: http://pandas.pydata.org/pandas-docs/stable/user_guide/indexing.html#returning-a-view-versus-a-copy\n",
      "  \"\"\"Entry point for launching an IPython kernel.\n",
      "/Users/elliotevins/opt/anaconda3/envs/learn-env/lib/python3.6/site-packages/ipykernel_launcher.py:2: SettingWithCopyWarning: \n",
      "A value is trying to be set on a copy of a slice from a DataFrame\n",
      "\n",
      "See the caveats in the documentation: http://pandas.pydata.org/pandas-docs/stable/user_guide/indexing.html#returning-a-view-versus-a-copy\n",
      "  \n"
     ]
    }
   ],
   "source": [
    "money_chungus.dropna(subset=['popularity'], inplace=True)\n",
    "money_chungus.dropna(subset=['worldwide_gross'], inplace=True)\n",
    "money_chungus.info()"
   ]
  },
  {
   "cell_type": "code",
   "execution_count": 6,
   "metadata": {},
   "outputs": [
    {
     "name": "stderr",
     "output_type": "stream",
     "text": [
      "/Users/elliotevins/opt/anaconda3/envs/learn-env/lib/python3.6/site-packages/ipykernel_launcher.py:3: SettingWithCopyWarning: \n",
      "A value is trying to be set on a copy of a slice from a DataFrame.\n",
      "Try using .loc[row_indexer,col_indexer] = value instead\n",
      "\n",
      "See the caveats in the documentation: http://pandas.pydata.org/pandas-docs/stable/user_guide/indexing.html#returning-a-view-versus-a-copy\n",
      "  This is separate from the ipykernel package so we can avoid doing imports until\n",
      "/Users/elliotevins/opt/anaconda3/envs/learn-env/lib/python3.6/site-packages/ipykernel_launcher.py:4: SettingWithCopyWarning: \n",
      "A value is trying to be set on a copy of a slice from a DataFrame.\n",
      "Try using .loc[row_indexer,col_indexer] = value instead\n",
      "\n",
      "See the caveats in the documentation: http://pandas.pydata.org/pandas-docs/stable/user_guide/indexing.html#returning-a-view-versus-a-copy\n",
      "  after removing the cwd from sys.path.\n"
     ]
    }
   ],
   "source": [
    "# Looks good - now let's set a new table that standardizes the units between popularity and gross revenue:\n",
    "normalized = money_chungus[['popularity','worldwide_gross']]\n",
    "normalized['simple_popularity'] = normalized['popularity']/10\n",
    "normalized['simple_gross'] = normalized['worldwide_gross']/1_000_000"
   ]
  },
  {
   "cell_type": "code",
   "execution_count": 7,
   "metadata": {},
   "outputs": [
    {
     "data": {
      "image/png": "[encoded data removed]",
      "text/plain": [
       "<Figure size 432x288 with 1 Axes>"
      ]
     },
     "metadata": {
      "needs_background": "light"
     },
     "output_type": "display_data"
    },
    {
     "name": "stdout",
     "output_type": "stream",
     "text": [
      "R-Value = 0.5334513839013165\n",
      "P-Value = 5.243716819201738e-224\n"
     ]
    }
   ],
   "source": [
    "# No let's see how strong the connection is between popularity and revenue generation\n",
    "slope, intercept, r_value, p_value, std_err = stats.linregress(normalized['simple_popularity'],normalized['simple_gross'])\n",
    "ax = sns.regplot(x=\"simple_gross\", y=\"simple_popularity\", data=normalized, color='b', \n",
    " line_kws={'label':\"y={0:.1f}x+{1:.1f}\".format(slope,intercept)})\n",
    "ax.legend()\n",
    "plt.show()\n",
    "print(f'R-Value = {r_value}')\n",
    "print(f'P-Value = {p_value}')"
   ]
  },
  {
   "cell_type": "markdown",
   "metadata": {},
   "source": [
    "Okay, we can see that there is a statistically significant connection between worldwide revenue and popularity. Now we can ask what kinds of movies are most popular? "
   ]
  },
  {
   "cell_type": "markdown",
   "metadata": {},
   "source": [
    "# Let's look at Genre as an indicator of popularity and revenue:"
   ]
  },
  {
   "cell_type": "code",
   "execution_count": 8,
   "metadata": {},
   "outputs": [
    {
     "name": "stderr",
     "output_type": "stream",
     "text": [
      "/Users/elliotevins/opt/anaconda3/envs/learn-env/lib/python3.6/site-packages/ipykernel_launcher.py:9: UserWarning: Boolean Series key will be reindexed to match DataFrame index.\n",
      "  if __name__ == '__main__':\n"
     ]
    },
    {
     "data": {
      "text/html": [
       "<div>\n",
       "<style scoped>\n",
       "    .dataframe tbody tr th:only-of-type {\n",
       "        vertical-align: middle;\n",
       "    }\n",
       "\n",
       "    .dataframe tbody tr th {\n",
       "        vertical-align: top;\n",
       "    }\n",
       "\n",
       "    .dataframe thead th {\n",
       "        text-align: right;\n",
       "    }\n",
       "</style>\n",
       "<table border=\"1\" class=\"dataframe\">\n",
       "  <thead>\n",
       "    <tr style=\"text-align: right;\">\n",
       "      <th></th>\n",
       "      <th>level_0</th>\n",
       "      <th>level_1</th>\n",
       "      <th>corr</th>\n",
       "    </tr>\n",
       "  </thead>\n",
       "  <tbody>\n",
       "    <tr>\n",
       "      <td>508</td>\n",
       "      <td>worldwide_gross</td>\n",
       "      <td>Adventure</td>\n",
       "      <td>0.385612</td>\n",
       "    </tr>\n",
       "    <tr>\n",
       "      <td>522</td>\n",
       "      <td>worldwide_gross</td>\n",
       "      <td>Action</td>\n",
       "      <td>0.217526</td>\n",
       "    </tr>\n",
       "    <tr>\n",
       "      <td>512</td>\n",
       "      <td>worldwide_gross</td>\n",
       "      <td>Animation</td>\n",
       "      <td>0.217247</td>\n",
       "    </tr>\n",
       "    <tr>\n",
       "      <td>511</td>\n",
       "      <td>worldwide_gross</td>\n",
       "      <td>Sci-Fi</td>\n",
       "      <td>0.167770</td>\n",
       "    </tr>\n",
       "    <tr>\n",
       "      <td>513</td>\n",
       "      <td>worldwide_gross</td>\n",
       "      <td>Fantasy</td>\n",
       "      <td>0.122174</td>\n",
       "    </tr>\n",
       "    <tr>\n",
       "      <td>515</td>\n",
       "      <td>worldwide_gross</td>\n",
       "      <td>Family</td>\n",
       "      <td>0.042218</td>\n",
       "    </tr>\n",
       "    <tr>\n",
       "      <td>526</td>\n",
       "      <td>worldwide_gross</td>\n",
       "      <td>Comedy</td>\n",
       "      <td>0.032673</td>\n",
       "    </tr>\n",
       "    <tr>\n",
       "      <td>519</td>\n",
       "      <td>worldwide_gross</td>\n",
       "      <td>Reality-TV</td>\n",
       "      <td>-0.007777</td>\n",
       "    </tr>\n",
       "    <tr>\n",
       "      <td>510</td>\n",
       "      <td>worldwide_gross</td>\n",
       "      <td>News</td>\n",
       "      <td>-0.010602</td>\n",
       "    </tr>\n",
       "    <tr>\n",
       "      <td>523</td>\n",
       "      <td>worldwide_gross</td>\n",
       "      <td>Western</td>\n",
       "      <td>-0.014542</td>\n",
       "    </tr>\n",
       "    <tr>\n",
       "      <td>525</td>\n",
       "      <td>worldwide_gross</td>\n",
       "      <td>Sport</td>\n",
       "      <td>-0.016037</td>\n",
       "    </tr>\n",
       "    <tr>\n",
       "      <td>516</td>\n",
       "      <td>worldwide_gross</td>\n",
       "      <td>History</td>\n",
       "      <td>-0.018493</td>\n",
       "    </tr>\n",
       "    <tr>\n",
       "      <td>514</td>\n",
       "      <td>worldwide_gross</td>\n",
       "      <td>Thriller</td>\n",
       "      <td>-0.021964</td>\n",
       "    </tr>\n",
       "    <tr>\n",
       "      <td>524</td>\n",
       "      <td>worldwide_gross</td>\n",
       "      <td>Mystery</td>\n",
       "      <td>-0.022053</td>\n",
       "    </tr>\n",
       "    <tr>\n",
       "      <td>521</td>\n",
       "      <td>worldwide_gross</td>\n",
       "      <td>Music</td>\n",
       "      <td>-0.025790</td>\n",
       "    </tr>\n",
       "    <tr>\n",
       "      <td>507</td>\n",
       "      <td>worldwide_gross</td>\n",
       "      <td>War</td>\n",
       "      <td>-0.026678</td>\n",
       "    </tr>\n",
       "    <tr>\n",
       "      <td>509</td>\n",
       "      <td>worldwide_gross</td>\n",
       "      <td>Biography</td>\n",
       "      <td>-0.031900</td>\n",
       "    </tr>\n",
       "    <tr>\n",
       "      <td>506</td>\n",
       "      <td>worldwide_gross</td>\n",
       "      <td>Crime</td>\n",
       "      <td>-0.035247</td>\n",
       "    </tr>\n",
       "    <tr>\n",
       "      <td>517</td>\n",
       "      <td>worldwide_gross</td>\n",
       "      <td>Horror</td>\n",
       "      <td>-0.046438</td>\n",
       "    </tr>\n",
       "    <tr>\n",
       "      <td>520</td>\n",
       "      <td>worldwide_gross</td>\n",
       "      <td>Romance</td>\n",
       "      <td>-0.059803</td>\n",
       "    </tr>\n",
       "    <tr>\n",
       "      <td>527</td>\n",
       "      <td>worldwide_gross</td>\n",
       "      <td>Documentary</td>\n",
       "      <td>-0.073200</td>\n",
       "    </tr>\n",
       "    <tr>\n",
       "      <td>518</td>\n",
       "      <td>worldwide_gross</td>\n",
       "      <td>Drama</td>\n",
       "      <td>-0.164352</td>\n",
       "    </tr>\n",
       "  </tbody>\n",
       "</table>\n",
       "</div>"
      ],
      "text/plain": [
       "             level_0      level_1      corr\n",
       "508  worldwide_gross    Adventure  0.385612\n",
       "522  worldwide_gross       Action  0.217526\n",
       "512  worldwide_gross    Animation  0.217247\n",
       "511  worldwide_gross       Sci-Fi  0.167770\n",
       "513  worldwide_gross      Fantasy  0.122174\n",
       "515  worldwide_gross       Family  0.042218\n",
       "526  worldwide_gross       Comedy  0.032673\n",
       "519  worldwide_gross   Reality-TV -0.007777\n",
       "510  worldwide_gross         News -0.010602\n",
       "523  worldwide_gross      Western -0.014542\n",
       "525  worldwide_gross        Sport -0.016037\n",
       "516  worldwide_gross      History -0.018493\n",
       "514  worldwide_gross     Thriller -0.021964\n",
       "524  worldwide_gross      Mystery -0.022053\n",
       "521  worldwide_gross        Music -0.025790\n",
       "507  worldwide_gross          War -0.026678\n",
       "509  worldwide_gross    Biography -0.031900\n",
       "506  worldwide_gross        Crime -0.035247\n",
       "517  worldwide_gross       Horror -0.046438\n",
       "520  worldwide_gross      Romance -0.059803\n",
       "527  worldwide_gross  Documentary -0.073200\n",
       "518  worldwide_gross        Drama -0.164352"
      ]
     },
     "execution_count": 8,
     "metadata": {},
     "output_type": "execute_result"
    }
   ],
   "source": [
    "#Let's call back on pop_chungus df and check for correlation between genres and worldwide gross\n",
    "col = 'worldwide_gross'\n",
    "cols = ['Crime', 'War', 'Adventure', 'Biography', 'News', 'Sci-Fi', 'Animation',\n",
    "        'Fantasy', 'Thriller', 'Family', 'History', 'Horror', 'Drama', \n",
    "        'Reality-TV', 'Romance', 'Music', 'Action', 'Western', \n",
    "        'Mystery', 'Sport', 'Comedy', 'Documentary', col]\n",
    "dft = pop_chungus[cols]\n",
    "df_corr = dft.corr().unstack().reset_index(name='corr')\n",
    "df_gross_corr = df_corr.sort_values('corr', ascending=False)[(df_corr['level_0'] == col) & (df_corr['level_1'] != col)]\n",
    "df_gross_corr"
   ]
  },
  {
   "cell_type": "code",
   "execution_count": 9,
   "metadata": {},
   "outputs": [
    {
     "data": {
      "image/png": "[encoded data removed]",
      "text/plain": [
       "<Figure size 432x288 with 1 Axes>"
      ]
     },
     "metadata": {
      "needs_background": "light"
     },
     "output_type": "display_data"
    }
   ],
   "source": [
    "#Definitely some correlation, let's check this out visually:\n",
    "sns.barplot(x=\"corr\", y=\"level_1\", data=df_gross_corr)\n",
    "plt.title('Pearson Correlation of Total Revenue to Genres', fontsize=15)\n",
    "plt.xlabel(\"Pearson Correlation to Total Revenue\", fontsize=15)\n",
    "plt.ylabel(\"Genre\", fontsize=15);"
   ]
  },
  {
   "cell_type": "code",
   "execution_count": 10,
   "metadata": {},
   "outputs": [
    {
     "data": {
      "text/html": [
       "<div>\n",
       "<style scoped>\n",
       "    .dataframe tbody tr th:only-of-type {\n",
       "        vertical-align: middle;\n",
       "    }\n",
       "\n",
       "    .dataframe tbody tr th {\n",
       "        vertical-align: top;\n",
       "    }\n",
       "\n",
       "    .dataframe thead th {\n",
       "        text-align: right;\n",
       "    }\n",
       "</style>\n",
       "<table border=\"1\" class=\"dataframe\">\n",
       "  <thead>\n",
       "    <tr style=\"text-align: right;\">\n",
       "      <th></th>\n",
       "      <th>level_1</th>\n",
       "      <th>percentage_schedule</th>\n",
       "    </tr>\n",
       "  </thead>\n",
       "  <tbody>\n",
       "    <tr>\n",
       "      <td>508</td>\n",
       "      <td>Adventure</td>\n",
       "      <td>13.0</td>\n",
       "    </tr>\n",
       "    <tr>\n",
       "      <td>522</td>\n",
       "      <td>Action</td>\n",
       "      <td>9.0</td>\n",
       "    </tr>\n",
       "    <tr>\n",
       "      <td>512</td>\n",
       "      <td>Animation</td>\n",
       "      <td>9.0</td>\n",
       "    </tr>\n",
       "    <tr>\n",
       "      <td>511</td>\n",
       "      <td>Sci-Fi</td>\n",
       "      <td>7.9</td>\n",
       "    </tr>\n",
       "    <tr>\n",
       "      <td>513</td>\n",
       "      <td>Fantasy</td>\n",
       "      <td>6.8</td>\n",
       "    </tr>\n",
       "    <tr>\n",
       "      <td>515</td>\n",
       "      <td>Family</td>\n",
       "      <td>4.9</td>\n",
       "    </tr>\n",
       "    <tr>\n",
       "      <td>526</td>\n",
       "      <td>Comedy</td>\n",
       "      <td>4.7</td>\n",
       "    </tr>\n",
       "    <tr>\n",
       "      <td>519</td>\n",
       "      <td>Reality-TV</td>\n",
       "      <td>3.7</td>\n",
       "    </tr>\n",
       "    <tr>\n",
       "      <td>510</td>\n",
       "      <td>News</td>\n",
       "      <td>3.6</td>\n",
       "    </tr>\n",
       "    <tr>\n",
       "      <td>523</td>\n",
       "      <td>Western</td>\n",
       "      <td>3.5</td>\n",
       "    </tr>\n",
       "    <tr>\n",
       "      <td>525</td>\n",
       "      <td>Sport</td>\n",
       "      <td>3.5</td>\n",
       "    </tr>\n",
       "    <tr>\n",
       "      <td>516</td>\n",
       "      <td>History</td>\n",
       "      <td>3.4</td>\n",
       "    </tr>\n",
       "    <tr>\n",
       "      <td>514</td>\n",
       "      <td>Thriller</td>\n",
       "      <td>3.4</td>\n",
       "    </tr>\n",
       "    <tr>\n",
       "      <td>524</td>\n",
       "      <td>Mystery</td>\n",
       "      <td>3.4</td>\n",
       "    </tr>\n",
       "    <tr>\n",
       "      <td>521</td>\n",
       "      <td>Music</td>\n",
       "      <td>3.3</td>\n",
       "    </tr>\n",
       "    <tr>\n",
       "      <td>507</td>\n",
       "      <td>War</td>\n",
       "      <td>3.3</td>\n",
       "    </tr>\n",
       "    <tr>\n",
       "      <td>509</td>\n",
       "      <td>Biography</td>\n",
       "      <td>3.1</td>\n",
       "    </tr>\n",
       "    <tr>\n",
       "      <td>506</td>\n",
       "      <td>Crime</td>\n",
       "      <td>3.1</td>\n",
       "    </tr>\n",
       "    <tr>\n",
       "      <td>517</td>\n",
       "      <td>Horror</td>\n",
       "      <td>2.8</td>\n",
       "    </tr>\n",
       "    <tr>\n",
       "      <td>520</td>\n",
       "      <td>Romance</td>\n",
       "      <td>2.5</td>\n",
       "    </tr>\n",
       "    <tr>\n",
       "      <td>527</td>\n",
       "      <td>Documentary</td>\n",
       "      <td>2.2</td>\n",
       "    </tr>\n",
       "    <tr>\n",
       "      <td>518</td>\n",
       "      <td>Drama</td>\n",
       "      <td>0.0</td>\n",
       "    </tr>\n",
       "  </tbody>\n",
       "</table>\n",
       "</div>"
      ],
      "text/plain": [
       "         level_1  percentage_schedule\n",
       "508    Adventure                 13.0\n",
       "522       Action                  9.0\n",
       "512    Animation                  9.0\n",
       "511       Sci-Fi                  7.9\n",
       "513      Fantasy                  6.8\n",
       "515       Family                  4.9\n",
       "526       Comedy                  4.7\n",
       "519   Reality-TV                  3.7\n",
       "510         News                  3.6\n",
       "523      Western                  3.5\n",
       "525        Sport                  3.5\n",
       "516      History                  3.4\n",
       "514     Thriller                  3.4\n",
       "524      Mystery                  3.4\n",
       "521        Music                  3.3\n",
       "507          War                  3.3\n",
       "509    Biography                  3.1\n",
       "506        Crime                  3.1\n",
       "517       Horror                  2.8\n",
       "520      Romance                  2.5\n",
       "527  Documentary                  2.2\n",
       "518        Drama                  0.0"
      ]
     },
     "execution_count": 10,
     "metadata": {},
     "output_type": "execute_result"
    }
   ],
   "source": [
    "#Now let's convert this to a percentage schedule Microsoft can follow: \n",
    "df_gross_corr['percentage_schedule'] =(((df_gross_corr['corr'] + 0.164351962)*100)/4.23).round(1)\n",
    "percentage_schedule = df_gross_corr[['level_1', 'percentage_schedule']]\n",
    "percentage_schedule"
   ]
  },
  {
   "cell_type": "code",
   "execution_count": 11,
   "metadata": {},
   "outputs": [
    {
     "data": {
      "text/plain": [
       "<matplotlib.axes._subplots.AxesSubplot at 0x1a1a211668>"
      ]
     },
     "execution_count": 11,
     "metadata": {},
     "output_type": "execute_result"
    },
    {
     "data": {
      "image/png": "[encoded data removed]",
      "text/plain": [
       "<Figure size 432x288 with 1 Axes>"
      ]
     },
     "metadata": {
      "needs_background": "light"
     },
     "output_type": "display_data"
    }
   ],
   "source": [
    "sns.barplot(df_gross_corr['percentage_schedule'],df_gross_corr['level_1'] )"
   ]
  },
  {
   "cell_type": "markdown",
   "metadata": {},
   "source": [
    "### Look's great, now we have some information on which genres Microsoft should produce and at what rates to maximize revenue. "
   ]
  },
  {
   "cell_type": "code",
   "execution_count": 12,
   "metadata": {},
   "outputs": [
    {
     "name": "stderr",
     "output_type": "stream",
     "text": [
      "/Users/elliotevins/opt/anaconda3/envs/learn-env/lib/python3.6/site-packages/ipykernel_launcher.py:10: UserWarning: Boolean Series key will be reindexed to match DataFrame index.\n",
      "  # Remove the CWD from sys.path while we load stuff.\n"
     ]
    }
   ],
   "source": [
    "#Now let's see the same comparison in an attempt to maximize popularity.\n",
    "col1 = 'popularity'\n",
    "cols1 = ['Crime', 'War', 'Adventure', 'Biography', 'News', 'Sci-Fi', 'Animation',\n",
    "        'Fantasy', 'Short', 'Talk-Show', 'Thriller', 'Family', 'History', 'Horror', 'Drama', \n",
    "        'Reality-TV', 'Romance', 'Music', 'Action', 'Musical', 'Western', 'Game-Show', \n",
    "        'Mystery', 'Sport', 'Comedy', 'Documentary', 'Adult', col1]\n",
    "dft1 = pop_chungus[cols1]\n",
    "df_corr = dft1.corr().unstack().reset_index(name='corr')\n",
    "# df_corr.sort_values('corr', ascending=False)[(df_corr['corr'] < .9) & (df_corr['corr'] > .5)]\n",
    "df_pop_corr = df_corr.sort_values('corr', ascending=False)[(df_corr['level_0'] == col1) & (df_corr['level_1'] != col1)]\n",
    "df_pop_corr.to_csv('../pop_corr.csv')"
   ]
  },
  {
   "cell_type": "code",
   "execution_count": 13,
   "metadata": {},
   "outputs": [
    {
     "data": {
      "image/png": "[encoded data removed]",
      "text/plain": [
       "<Figure size 432x288 with 1 Axes>"
      ]
     },
     "metadata": {
      "needs_background": "light"
     },
     "output_type": "display_data"
    }
   ],
   "source": [
    "sns.barplot(x=\"corr\", y=\"level_1\", data=df_pop_corr)\n",
    "plt.title('Pearson Correlation of Popularity to Genres', fontsize=15)\n",
    "plt.xlabel(\"Pearson Correlation to Popularity\", fontsize=15)\n",
    "plt.ylabel(\"Genre\", fontsize=15);"
   ]
  },
  {
   "cell_type": "code",
   "execution_count": 14,
   "metadata": {},
   "outputs": [],
   "source": [
    "df_pop_corr['percentage_schedule'] =(((df_pop_corr['corr'] + 0.17838858571255600)*100)/5.57720769551642000).round(1)"
   ]
  },
  {
   "cell_type": "code",
   "execution_count": 15,
   "metadata": {},
   "outputs": [
    {
     "data": {
      "text/plain": [
       "<matplotlib.axes._subplots.AxesSubplot at 0x1a1c6c3198>"
      ]
     },
     "execution_count": 15,
     "metadata": {},
     "output_type": "execute_result"
    },
    {
     "data": {
      "image/png": "[encoded data removed]",
      "text/plain": [
       "<Figure size 432x288 with 1 Axes>"
      ]
     },
     "metadata": {
      "needs_background": "light"
     },
     "output_type": "display_data"
    }
   ],
   "source": [
    "sns.barplot(df_pop_corr['percentage_schedule'],df_pop_corr['level_1'] )"
   ]
  }
 ],
 "metadata": {
  "kernelspec": {
   "display_name": "Python 3",
   "language": "python",
   "name": "python3"
  },
  "language_info": {
   "codemirror_mode": {
    "name": "ipython",
    "version": 3
   },
   "file_extension": ".py",
   "mimetype": "text/x-python",
   "name": "python",
   "nbconvert_exporter": "python",
   "pygments_lexer": "ipython3",
   "version": "3.6.9"
  }
 },
 "nbformat": 4,
 "nbformat_minor": 4
}

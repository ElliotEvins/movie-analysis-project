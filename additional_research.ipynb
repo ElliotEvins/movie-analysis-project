{
 "cells": [
  {
   "cell_type": "code",
   "execution_count": null,
   "metadata": {},
   "outputs": [],
   "source": [
    "# additional research "
   ]
  },
  {
   "cell_type": "code",
   "execution_count": null,
   "metadata": {},
   "outputs": [],
   "source": [
    "#directors"
   ]
  },
  {
   "cell_type": "code",
   "execution_count": null,
   "metadata": {},
   "outputs": [],
   "source": [
    "path_chungus = '../etl_csvs/chungus_with_tmdb.csv'\n",
    "df = pd.read_csv(path_chungus, index_col=0)"
   ]
  },
  {
   "cell_type": "code",
   "execution_count": null,
   "metadata": {},
   "outputs": [],
   "source": [
    "#Create new variable based on the ROI of a movie:\n",
    "df['net_roi'] = (df['worldwide_gross'] - df['production_budget']) / df['production_budget']"
   ]
  },
  {
   "cell_type": "code",
   "execution_count": null,
   "metadata": {},
   "outputs": [],
   "source": [
    "# look at the shape of directors\n",
    "df['director_1'].value_counts().describe()"
   ]
  },
  {
   "cell_type": "code",
   "execution_count": null,
   "metadata": {},
   "outputs": [],
   "source": [
    "# drop gross NaN's\n",
    "df_valid_gross = df.dropna(subset=['worldwide_gross'])\n",
    "# check resulting length\n",
    "len(df_valid_gross)"
   ]
  },
  {
   "cell_type": "code",
   "execution_count": null,
   "metadata": {},
   "outputs": [],
   "source": [
    "# get rid of directors without multiple films\n",
    "df_directors = df_valid_gross[df_valid_gross.duplicated('director_1') \n",
    "                             | df_valid_gross.duplicated('director_1', keep='last')]\n",
    "# verify that all single-film directors are removed\n",
    "df_directors['director_1'].value_counts()"
   ]
  },
  {
   "cell_type": "code",
   "execution_count": null,
   "metadata": {},
   "outputs": [],
   "source": [
    "# take a look at how many films a median director does\n",
    "df_directors['director_1'].value_counts().describe()"
   ]
  },
  {
   "cell_type": "code",
   "execution_count": null,
   "metadata": {},
   "outputs": [],
   "source": [
    "# group directors and get median worldwide_gross\n",
    "dft = df_directors[['director_1', 'worldwide_gross']].groupby(['director_1']).median().sort_values('worldwide_gross', ascending=False)\n",
    "\n",
    "# dft[(dft['worldwide_gross'] < 1) & (dft['worldwide_gross'] > -1)].sort_values('worldwide_gross', ascending=False)['worldwide_gross'].to_list()\n",
    "\n",
    "# flatten dft\n",
    "dft = dft.reset_index()\n",
    "\n",
    "# exclude anomolous 'home' movie\n",
    "# dft = dft[(dft['worldwide_gross'] < 88)]\n",
    "\n",
    "# isolate the top 3 directors\n",
    "dft = dft[0:3]\n",
    "\n",
    "# add the typical director based on median\n",
    "observation_typical_director = {'director_1': 'Typical', \n",
    "                                'worldwide_gross': df['worldwide_gross'].median()}\n",
    "\n",
    "#append row to the dataframe\n",
    "dft = dft.append(observation_typical_director, ignore_index=True)\n",
    "\n",
    "# verify it makes sense\n",
    "display(dft)"
   ]
  },
  {
   "cell_type": "code",
   "execution_count": null,
   "metadata": {},
   "outputs": [],
   "source": [
    "sns.barplot(x='director_1', y='worldwide_gross', data=dft.head())\n",
    "plt.title('3 Top Directors Compared to Typical Directors (Gross)', fontsize=14)\n",
    "plt.xlabel(\"Directors\", fontsize=14)\n",
    "plt.ylabel(\"World Gross (billions, USD)\", fontsize=14)"
   ]
  },
  {
   "cell_type": "code",
   "execution_count": null,
   "metadata": {},
   "outputs": [],
   "source": [
    "# Look at summary stats for num films per writer\n",
    "df['writer_1'].value_counts().describe()"
   ]
  },
  {
   "cell_type": "code",
   "execution_count": null,
   "metadata": {},
   "outputs": [],
   "source": [
    "# get rid of writers without multiple films\n",
    "df_writers = df_valid_gross[df_valid_gross.duplicated('writer_1') \n",
    "                             | df_valid_gross.duplicated('writer_1', keep='last')]\n",
    "# verify that all single-film writers are removed\n",
    "df_writers['writer_1'].value_counts()"
   ]
  },
  {
   "cell_type": "code",
   "execution_count": null,
   "metadata": {},
   "outputs": [],
   "source": [
    "# take a look at how many films a median writer does after removing singles\n",
    "df_writers['writer_1'].value_counts().describe()"
   ]
  },
  {
   "cell_type": "code",
   "execution_count": null,
   "metadata": {},
   "outputs": [],
   "source": [
    "\n",
    "# group writers and get median worldwide_gross\n",
    "dft = df_writers[['writer_1', 'worldwide_gross']].groupby(['writer_1']).median().sort_values('worldwide_gross', ascending=False)\n",
    "\n",
    "# dft[(dft['worldwide_gross'] < 1) & (dft['worldwide_gross'] > -1)].sort_values('worldwide_gross', ascending=False)['worldwide_gross'].to_list()\n",
    "\n",
    "# flatten dft\n",
    "dft = dft.reset_index()\n",
    "\n",
    "# exclude anomolous 'home' movie\n",
    "# dft = dft[(dft['worldwide_gross'] < 88)]\n",
    "\n",
    "# isolate the top 3 writers\n",
    "dft = dft[0:3]\n",
    "\n",
    "# add the typical writer based on median\n",
    "observation_typical = {'writer_1': 'Typical',\n",
    "                       'worldwide_gross': df['worldwide_gross'].median()}\n",
    "\n",
    "#append row to the dataframe\n",
    "dft = dft.append(observation_typical, ignore_index=True)\n",
    "\n",
    "# verify it makes sense\n",
    "display(dft)"
   ]
  },
  {
   "cell_type": "code",
   "execution_count": null,
   "metadata": {},
   "outputs": [],
   "source": [
    "sns.barplot(x='writer_1', y='worldwide_gross', data=dft.head())\n",
    "plt.title('3 Top Writers Compared to Typical Writers (Gross)', fontsize=14)\n",
    "plt.xlabel(\"Writers\", fontsize=14)\n",
    "plt.ylabel(\"Gross  (billions, USD)\", fontsize=14)"
   ]
  }
 ],
 "metadata": {
  "kernelspec": {
   "display_name": "Python 3",
   "language": "python",
   "name": "python3"
  },
  "language_info": {
   "codemirror_mode": {
    "name": "ipython",
    "version": 3
   },
   "file_extension": ".py",
   "mimetype": "text/x-python",
   "name": "python",
   "nbconvert_exporter": "python",
   "pygments_lexer": "ipython3",
   "version": "3.6.9"
  }
 },
 "nbformat": 4,
 "nbformat_minor": 4
}

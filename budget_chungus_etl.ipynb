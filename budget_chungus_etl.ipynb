{
 "cells": [
  {
   "cell_type": "code",
   "execution_count": 2,
   "metadata": {},
   "outputs": [],
   "source": [
    "import pandas as pd\n",
    "from glob import glob\n",
    "import os\n",
    "import numpy as np"
   ]
  },
  {
   "cell_type": "code",
   "execution_count": 9,
   "metadata": {},
   "outputs": [],
   "source": [
    "budget_df = pd.read_csv('/Users/elliotevins/movie-project/movie-analysis-project/unzipped-data/tn.movie_budgets.csv')"
   ]
  },
  {
   "cell_type": "code",
   "execution_count": 10,
   "metadata": {},
   "outputs": [],
   "source": [
    "budget_df['movie_name'] = budget_df['movie']"
   ]
  },
  {
   "cell_type": "code",
   "execution_count": 14,
   "metadata": {},
   "outputs": [
    {
     "data": {
      "text/plain": [
       "id                   0\n",
       "release_date         0\n",
       "movie                0\n",
       "production_budget    0\n",
       "domestic_gross       0\n",
       "worldwide_gross      0\n",
       "movie_name           0\n",
       "dtype: int64"
      ]
     },
     "execution_count": 14,
     "metadata": {},
     "output_type": "execute_result"
    }
   ],
   "source": [
    "#check for Nan values\n",
    "budget_df.isna().sum()"
   ]
  },
  {
   "cell_type": "code",
   "execution_count": 129,
   "metadata": {},
   "outputs": [
    {
     "data": {
      "text/html": [
       "<div>\n",
       "<style scoped>\n",
       "    .dataframe tbody tr th:only-of-type {\n",
       "        vertical-align: middle;\n",
       "    }\n",
       "\n",
       "    .dataframe tbody tr th {\n",
       "        vertical-align: top;\n",
       "    }\n",
       "\n",
       "    .dataframe thead th {\n",
       "        text-align: right;\n",
       "    }\n",
       "</style>\n",
       "<table border=\"1\" class=\"dataframe\">\n",
       "  <thead>\n",
       "    <tr style=\"text-align: right;\">\n",
       "      <th></th>\n",
       "      <th>id</th>\n",
       "      <th>release_date</th>\n",
       "      <th>movie</th>\n",
       "      <th>production_budget</th>\n",
       "      <th>domestic_gross</th>\n",
       "      <th>worldwide_gross</th>\n",
       "    </tr>\n",
       "    <tr>\n",
       "      <th>movie_name</th>\n",
       "      <th></th>\n",
       "      <th></th>\n",
       "      <th></th>\n",
       "      <th></th>\n",
       "      <th></th>\n",
       "      <th></th>\n",
       "    </tr>\n",
       "  </thead>\n",
       "  <tbody>\n",
       "    <tr>\n",
       "      <td>avatar</td>\n",
       "      <td>1</td>\n",
       "      <td>Dec 18, 2009</td>\n",
       "      <td>Avatar</td>\n",
       "      <td>$425,000,000</td>\n",
       "      <td>$760,507,625</td>\n",
       "      <td>$2,776,345,279</td>\n",
       "    </tr>\n",
       "    <tr>\n",
       "      <td>piratesofthecaribbeanonstrangertides</td>\n",
       "      <td>2</td>\n",
       "      <td>May 20, 2011</td>\n",
       "      <td>Pirates of the Caribbean: On Stranger Tides</td>\n",
       "      <td>$410,600,000</td>\n",
       "      <td>$241,063,875</td>\n",
       "      <td>$1,045,663,875</td>\n",
       "    </tr>\n",
       "    <tr>\n",
       "      <td>darkphoenix</td>\n",
       "      <td>3</td>\n",
       "      <td>Jun 7, 2019</td>\n",
       "      <td>Dark Phoenix</td>\n",
       "      <td>$350,000,000</td>\n",
       "      <td>$42,762,350</td>\n",
       "      <td>$149,762,350</td>\n",
       "    </tr>\n",
       "    <tr>\n",
       "      <td>avengersageofultron</td>\n",
       "      <td>4</td>\n",
       "      <td>May 1, 2015</td>\n",
       "      <td>Avengers: Age of Ultron</td>\n",
       "      <td>$330,600,000</td>\n",
       "      <td>$459,005,868</td>\n",
       "      <td>$1,403,013,963</td>\n",
       "    </tr>\n",
       "    <tr>\n",
       "      <td>starwarsepviiithelastjedi</td>\n",
       "      <td>5</td>\n",
       "      <td>Dec 15, 2017</td>\n",
       "      <td>Star Wars Ep. VIII: The Last Jedi</td>\n",
       "      <td>$317,000,000</td>\n",
       "      <td>$620,181,382</td>\n",
       "      <td>$1,316,721,747</td>\n",
       "    </tr>\n",
       "    <tr>\n",
       "      <td>...</td>\n",
       "      <td>...</td>\n",
       "      <td>...</td>\n",
       "      <td>...</td>\n",
       "      <td>...</td>\n",
       "      <td>...</td>\n",
       "      <td>...</td>\n",
       "    </tr>\n",
       "    <tr>\n",
       "      <td>red11</td>\n",
       "      <td>78</td>\n",
       "      <td>Dec 31, 2018</td>\n",
       "      <td>Red 11</td>\n",
       "      <td>$7,000</td>\n",
       "      <td>$0</td>\n",
       "      <td>$0</td>\n",
       "    </tr>\n",
       "    <tr>\n",
       "      <td>following</td>\n",
       "      <td>79</td>\n",
       "      <td>Apr 2, 1999</td>\n",
       "      <td>Following</td>\n",
       "      <td>$6,000</td>\n",
       "      <td>$48,482</td>\n",
       "      <td>$240,495</td>\n",
       "    </tr>\n",
       "    <tr>\n",
       "      <td>returntothelandofwonders</td>\n",
       "      <td>80</td>\n",
       "      <td>Jul 13, 2005</td>\n",
       "      <td>Return to the Land of Wonders</td>\n",
       "      <td>$5,000</td>\n",
       "      <td>$1,338</td>\n",
       "      <td>$1,338</td>\n",
       "    </tr>\n",
       "    <tr>\n",
       "      <td>aplaguesopleasant</td>\n",
       "      <td>81</td>\n",
       "      <td>Sep 29, 2015</td>\n",
       "      <td>A Plague So Pleasant</td>\n",
       "      <td>$1,400</td>\n",
       "      <td>$0</td>\n",
       "      <td>$0</td>\n",
       "    </tr>\n",
       "    <tr>\n",
       "      <td>mydatewithdrew</td>\n",
       "      <td>82</td>\n",
       "      <td>Aug 5, 2005</td>\n",
       "      <td>My Date With Drew</td>\n",
       "      <td>$1,100</td>\n",
       "      <td>$181,041</td>\n",
       "      <td>$181,041</td>\n",
       "    </tr>\n",
       "  </tbody>\n",
       "</table>\n",
       "<p>5782 rows × 6 columns</p>\n",
       "</div>"
      ],
      "text/plain": [
       "                                      id  release_date  \\\n",
       "movie_name                                               \n",
       "avatar                                 1  Dec 18, 2009   \n",
       "piratesofthecaribbeanonstrangertides   2  May 20, 2011   \n",
       "darkphoenix                            3   Jun 7, 2019   \n",
       "avengersageofultron                    4   May 1, 2015   \n",
       "starwarsepviiithelastjedi              5  Dec 15, 2017   \n",
       "...                                   ..           ...   \n",
       "red11                                 78  Dec 31, 2018   \n",
       "following                             79   Apr 2, 1999   \n",
       "returntothelandofwonders              80  Jul 13, 2005   \n",
       "aplaguesopleasant                     81  Sep 29, 2015   \n",
       "mydatewithdrew                        82   Aug 5, 2005   \n",
       "\n",
       "                                                                            movie  \\\n",
       "movie_name                                                                          \n",
       "avatar                                                                     Avatar   \n",
       "piratesofthecaribbeanonstrangertides  Pirates of the Caribbean: On Stranger Tides   \n",
       "darkphoenix                                                          Dark Phoenix   \n",
       "avengersageofultron                                       Avengers: Age of Ultron   \n",
       "starwarsepviiithelastjedi                       Star Wars Ep. VIII: The Last Jedi   \n",
       "...                                                                           ...   \n",
       "red11                                                                      Red 11   \n",
       "following                                                               Following   \n",
       "returntothelandofwonders                            Return to the Land of Wonders   \n",
       "aplaguesopleasant                                            A Plague So Pleasant   \n",
       "mydatewithdrew                                                  My Date With Drew   \n",
       "\n",
       "                                     production_budget domestic_gross  \\\n",
       "movie_name                                                              \n",
       "avatar                                    $425,000,000   $760,507,625   \n",
       "piratesofthecaribbeanonstrangertides      $410,600,000   $241,063,875   \n",
       "darkphoenix                               $350,000,000    $42,762,350   \n",
       "avengersageofultron                       $330,600,000   $459,005,868   \n",
       "starwarsepviiithelastjedi                 $317,000,000   $620,181,382   \n",
       "...                                                ...            ...   \n",
       "red11                                           $7,000             $0   \n",
       "following                                       $6,000        $48,482   \n",
       "returntothelandofwonders                        $5,000         $1,338   \n",
       "aplaguesopleasant                               $1,400             $0   \n",
       "mydatewithdrew                                  $1,100       $181,041   \n",
       "\n",
       "                                     worldwide_gross  \n",
       "movie_name                                            \n",
       "avatar                                $2,776,345,279  \n",
       "piratesofthecaribbeanonstrangertides  $1,045,663,875  \n",
       "darkphoenix                             $149,762,350  \n",
       "avengersageofultron                   $1,403,013,963  \n",
       "starwarsepviiithelastjedi             $1,316,721,747  \n",
       "...                                              ...  \n",
       "red11                                             $0  \n",
       "following                                   $240,495  \n",
       "returntothelandofwonders                      $1,338  \n",
       "aplaguesopleasant                                 $0  \n",
       "mydatewithdrew                              $181,041  \n",
       "\n",
       "[5782 rows x 6 columns]"
      ]
     },
     "execution_count": 129,
     "metadata": {},
     "output_type": "execute_result"
    }
   ],
   "source": [
    "#Remove spaces\n",
    "budget_df['movie_name'] = budget_df['movie_name'].str.replace(\" \", \"\")\n",
    "#Lower case\n",
    "budget_df['movie_name'] = budget_df['movie_name'].str.lower()\n",
    "#Remove colons:\n",
    "budget_df['movie_name'] = budget_df['movie_name'].str.replace(\":\", \"\")\n",
    "#Change ampersand:\n",
    "budget_df['movie_name'] = budget_df['movie_name'].str.replace(\"&\", \"and\")\n",
    "#Remove periods:\n",
    "budget_df['movie_name'] = budget_df['movie_name'].str.replace(\".\", \"\")\n",
    "#Remove commas:\n",
    "budget_df['movie_name'] = budget_df['movie_name'].str.replace(\",\", \"\")\n",
    "#Remove slashes:\n",
    "budget_df['movie_name'] = budget_df['movie_name'].str.replace(\"/\", \"\")\n",
    "#Remove hyphens:\n",
    "budget_df['movie_name'] = budget_df['movie_name'].str.replace(\"-\", \"\")\n",
    "#Remove apostrophes:\n",
    "budget_df['movie_name'] = budget_df['movie_name'].str.replace(\"'\", \"\")\n",
    "#Remove junk:\n",
    "budget_df['movie_name'] = budget_df['movie_name'].str.replace(\"â\", \"\")\n",
    "#Remove junk:\n",
    "budget_df['movie_name'] = budget_df['movie_name'].str.replace(\"â\\x80\\x94\", \"\")\n",
    "#Set index to movie name\n",
    "budget_df.set_index('movie_name')"
   ]
  },
  {
   "cell_type": "code",
   "execution_count": 130,
   "metadata": {},
   "outputs": [
    {
     "data": {
      "text/plain": [
       "dtype('int64')"
      ]
     },
     "execution_count": 130,
     "metadata": {},
     "output_type": "execute_result"
    }
   ],
   "source": [
    "#Clean and quantify budget:\n",
    "budget_df['production_budget'] = budget_df['production_budget'].str.replace(\",\", \"\")\n",
    "budget_df['production_budget'] = budget_df['production_budget'].str.replace(\"$\", \"\")\n",
    "budget_df['production_budget'] = budget_df['production_budget'].astype('int64')\n",
    "budget_df['production_budget'].dtype"
   ]
  },
  {
   "cell_type": "code",
   "execution_count": 131,
   "metadata": {},
   "outputs": [
    {
     "data": {
      "text/plain": [
       "dtype('int64')"
      ]
     },
     "execution_count": 131,
     "metadata": {},
     "output_type": "execute_result"
    }
   ],
   "source": [
    "#Clean and quantify domestic gross:\n",
    "budget_df['domestic_gross'] = budget_df['domestic_gross'].str.replace(\",\", \"\")\n",
    "budget_df['domestic_gross'] = budget_df['domestic_gross'].str.replace(\"$\", \"\")\n",
    "budget_df['domestic_gross'] = budget_df['domestic_gross'].astype('int64')\n",
    "budget_df['domestic_gross'].dtype"
   ]
  },
  {
   "cell_type": "code",
   "execution_count": 132,
   "metadata": {},
   "outputs": [
    {
     "data": {
      "text/plain": [
       "dtype('int64')"
      ]
     },
     "execution_count": 132,
     "metadata": {},
     "output_type": "execute_result"
    }
   ],
   "source": [
    "#Clean and quantify worldwide gross:\n",
    "budget_df['worldwide_gross'] = budget_df['worldwide_gross'].str.replace(\",\", \"\")\n",
    "budget_df['worldwide_gross'] = budget_df['worldwide_gross'].str.replace(\"$\", \"\")\n",
    "budget_df['worldwide_gross'] = budget_df['worldwide_gross'].astype('int64')\n",
    "budget_df['worldwide_gross'].dtype"
   ]
  },
  {
   "cell_type": "code",
   "execution_count": 133,
   "metadata": {},
   "outputs": [
    {
     "data": {
      "text/html": [
       "<div>\n",
       "<style scoped>\n",
       "    .dataframe tbody tr th:only-of-type {\n",
       "        vertical-align: middle;\n",
       "    }\n",
       "\n",
       "    .dataframe tbody tr th {\n",
       "        vertical-align: top;\n",
       "    }\n",
       "\n",
       "    .dataframe thead th {\n",
       "        text-align: right;\n",
       "    }\n",
       "</style>\n",
       "<table border=\"1\" class=\"dataframe\">\n",
       "  <thead>\n",
       "    <tr style=\"text-align: right;\">\n",
       "      <th></th>\n",
       "      <th>id</th>\n",
       "      <th>release_date</th>\n",
       "      <th>movie</th>\n",
       "      <th>production_budget</th>\n",
       "      <th>domestic_gross</th>\n",
       "      <th>worldwide_gross</th>\n",
       "      <th>movie_name</th>\n",
       "    </tr>\n",
       "  </thead>\n",
       "  <tbody>\n",
       "    <tr>\n",
       "      <td>0</td>\n",
       "      <td>1</td>\n",
       "      <td>2009-12-18</td>\n",
       "      <td>Avatar</td>\n",
       "      <td>425000000</td>\n",
       "      <td>760507625</td>\n",
       "      <td>2776345279</td>\n",
       "      <td>avatar</td>\n",
       "    </tr>\n",
       "    <tr>\n",
       "      <td>1</td>\n",
       "      <td>2</td>\n",
       "      <td>2011-05-20</td>\n",
       "      <td>Pirates of the Caribbean: On Stranger Tides</td>\n",
       "      <td>410600000</td>\n",
       "      <td>241063875</td>\n",
       "      <td>1045663875</td>\n",
       "      <td>piratesofthecaribbeanonstrangertides</td>\n",
       "    </tr>\n",
       "    <tr>\n",
       "      <td>2</td>\n",
       "      <td>3</td>\n",
       "      <td>2019-06-07</td>\n",
       "      <td>Dark Phoenix</td>\n",
       "      <td>350000000</td>\n",
       "      <td>42762350</td>\n",
       "      <td>149762350</td>\n",
       "      <td>darkphoenix</td>\n",
       "    </tr>\n",
       "    <tr>\n",
       "      <td>3</td>\n",
       "      <td>4</td>\n",
       "      <td>2015-05-01</td>\n",
       "      <td>Avengers: Age of Ultron</td>\n",
       "      <td>330600000</td>\n",
       "      <td>459005868</td>\n",
       "      <td>1403013963</td>\n",
       "      <td>avengersageofultron</td>\n",
       "    </tr>\n",
       "    <tr>\n",
       "      <td>4</td>\n",
       "      <td>5</td>\n",
       "      <td>2017-12-15</td>\n",
       "      <td>Star Wars Ep. VIII: The Last Jedi</td>\n",
       "      <td>317000000</td>\n",
       "      <td>620181382</td>\n",
       "      <td>1316721747</td>\n",
       "      <td>starwarsepviiithelastjedi</td>\n",
       "    </tr>\n",
       "  </tbody>\n",
       "</table>\n",
       "</div>"
      ],
      "text/plain": [
       "   id release_date                                        movie  \\\n",
       "0   1   2009-12-18                                       Avatar   \n",
       "1   2   2011-05-20  Pirates of the Caribbean: On Stranger Tides   \n",
       "2   3   2019-06-07                                 Dark Phoenix   \n",
       "3   4   2015-05-01                      Avengers: Age of Ultron   \n",
       "4   5   2017-12-15            Star Wars Ep. VIII: The Last Jedi   \n",
       "\n",
       "   production_budget  domestic_gross  worldwide_gross  \\\n",
       "0          425000000       760507625       2776345279   \n",
       "1          410600000       241063875       1045663875   \n",
       "2          350000000        42762350        149762350   \n",
       "3          330600000       459005868       1403013963   \n",
       "4          317000000       620181382       1316721747   \n",
       "\n",
       "                             movie_name  \n",
       "0                                avatar  \n",
       "1  piratesofthecaribbeanonstrangertides  \n",
       "2                           darkphoenix  \n",
       "3                   avengersageofultron  \n",
       "4             starwarsepviiithelastjedi  "
      ]
     },
     "execution_count": 133,
     "metadata": {},
     "output_type": "execute_result"
    }
   ],
   "source": [
    "#Convert release_date to datetime\n",
    "budget_df['release_date'] =  pd.to_datetime(budget_df['release_date'], format='%b %d, %Y')\n",
    "budget_df.head()"
   ]
  },
  {
   "cell_type": "code",
   "execution_count": 134,
   "metadata": {},
   "outputs": [],
   "source": [
    "#remove duplicate based budget\n",
    "budget_df = budget_df.sort_values('production_budget').drop_duplicates('movie_name', keep='first')"
   ]
  },
  {
   "cell_type": "code",
   "execution_count": 143,
   "metadata": {},
   "outputs": [
    {
     "name": "stdout",
     "output_type": "stream",
     "text": [
      "<class 'pandas.core.frame.DataFrame'>\n",
      "Int64Index: 5698 entries, 5781 to 0\n",
      "Data columns (total 7 columns):\n",
      "id                   5698 non-null int64\n",
      "release_date         5698 non-null datetime64[ns]\n",
      "movie                5698 non-null object\n",
      "production_budget    5698 non-null int64\n",
      "domestic_gross       5698 non-null int64\n",
      "worldwide_gross      5698 non-null int64\n",
      "movie_name           5698 non-null object\n",
      "dtypes: datetime64[ns](1), int64(4), object(2)\n",
      "memory usage: 356.1+ KB\n"
     ]
    }
   ],
   "source": [
    "budget_df.info()"
   ]
  },
  {
   "cell_type": "markdown",
   "metadata": {},
   "source": [
    "Now let's do the same to the name basics:"
   ]
  },
  {
   "cell_type": "code",
   "execution_count": 136,
   "metadata": {},
   "outputs": [
    {
     "name": "stdout",
     "output_type": "stream",
     "text": [
      "<class 'pandas.core.frame.DataFrame'>\n",
      "RangeIndex: 146144 entries, 0 to 146143\n",
      "Data columns (total 6 columns):\n",
      "tconst             146144 non-null object\n",
      "primary_title      146144 non-null object\n",
      "original_title     146123 non-null object\n",
      "start_year         146144 non-null int64\n",
      "runtime_minutes    114405 non-null float64\n",
      "genres             140736 non-null object\n",
      "dtypes: float64(1), int64(1), object(4)\n",
      "memory usage: 6.7+ MB\n"
     ]
    }
   ],
   "source": [
    "title_df = pd.read_csv('./unzipped-data/imdb.title.basics.csv')\n",
    "title_df.info()"
   ]
  },
  {
   "cell_type": "code",
   "execution_count": 137,
   "metadata": {},
   "outputs": [
    {
     "data": {
      "text/html": [
       "<div>\n",
       "<style scoped>\n",
       "    .dataframe tbody tr th:only-of-type {\n",
       "        vertical-align: middle;\n",
       "    }\n",
       "\n",
       "    .dataframe tbody tr th {\n",
       "        vertical-align: top;\n",
       "    }\n",
       "\n",
       "    .dataframe thead th {\n",
       "        text-align: right;\n",
       "    }\n",
       "</style>\n",
       "<table border=\"1\" class=\"dataframe\">\n",
       "  <thead>\n",
       "    <tr style=\"text-align: right;\">\n",
       "      <th></th>\n",
       "      <th>tconst</th>\n",
       "      <th>movie_name</th>\n",
       "    </tr>\n",
       "  </thead>\n",
       "  <tbody>\n",
       "    <tr>\n",
       "      <td>0</td>\n",
       "      <td>tt0063540</td>\n",
       "      <td>Sunghursh</td>\n",
       "    </tr>\n",
       "    <tr>\n",
       "      <td>1</td>\n",
       "      <td>tt0066787</td>\n",
       "      <td>One Day Before the Rainy Season</td>\n",
       "    </tr>\n",
       "    <tr>\n",
       "      <td>2</td>\n",
       "      <td>tt0069049</td>\n",
       "      <td>The Other Side of the Wind</td>\n",
       "    </tr>\n",
       "    <tr>\n",
       "      <td>3</td>\n",
       "      <td>tt0069204</td>\n",
       "      <td>Sabse Bada Sukh</td>\n",
       "    </tr>\n",
       "    <tr>\n",
       "      <td>4</td>\n",
       "      <td>tt0100275</td>\n",
       "      <td>The Wandering Soap Opera</td>\n",
       "    </tr>\n",
       "  </tbody>\n",
       "</table>\n",
       "</div>"
      ],
      "text/plain": [
       "      tconst                       movie_name\n",
       "0  tt0063540                        Sunghursh\n",
       "1  tt0066787  One Day Before the Rainy Season\n",
       "2  tt0069049       The Other Side of the Wind\n",
       "3  tt0069204                  Sabse Bada Sukh\n",
       "4  tt0100275         The Wandering Soap Opera"
      ]
     },
     "execution_count": 137,
     "metadata": {},
     "output_type": "execute_result"
    }
   ],
   "source": [
    "#Drop unneeded columns and build new index column \n",
    "title_df['movie_name'] = title_df['primary_title']\n",
    "title_df = title_df.drop(columns=['start_year', 'runtime_minutes', 'genres', 'primary_title', 'original_title'])\n",
    "title_df.head()"
   ]
  },
  {
   "cell_type": "code",
   "execution_count": 138,
   "metadata": {},
   "outputs": [],
   "source": [
    "#Remove spaces\n",
    "title_df['movie_name'] = title_df['movie_name'].str.replace(\" \", \"\")\n",
    "#Lower case\n",
    "title_df['movie_name'] = title_df['movie_name'].str.lower()\n",
    "#Remove colons:\n",
    "title_df['movie_name'] = title_df['movie_name'].str.replace(\":\", \"\")\n",
    "#Change ampersand:\n",
    "title_df['movie_name'] = title_df['movie_name'].str.replace(\"&\", \"and\")\n",
    "#Remove periods:\n",
    "title_df['movie_name'] = title_df['movie_name'].str.replace(\".\", \"\")\n",
    "#Remove commas:\n",
    "title_df['movie_name'] = title_df['movie_name'].str.replace(\",\", \"\")\n",
    "#Remove slashes:\n",
    "title_df['movie_name'] = title_df['movie_name'].str.replace(\"/\", \"\")\n",
    "#Remove hyphens:\n",
    "title_df['movie_name'] = title_df['movie_name'].str.replace(\"-\", \"\")\n",
    "#Remove apostrophes:\n",
    "title_df['movie_name'] = title_df['movie_name'].str.replace(\"'\", \"\")\n",
    "#Remove junk:\n",
    "title_df['movie_name'] = title_df['movie_name'].str.replace(\"â\", \"\")\n",
    "#Remove junk:\n",
    "title_df['movie_name'] = title_df['movie_name'].str.replace(\"â\\x80\\x94\", \"\")\n",
    "#Set index to movie name\n",
    "title_df = title_df.set_index('movie_name')"
   ]
  },
  {
   "cell_type": "code",
   "execution_count": 139,
   "metadata": {},
   "outputs": [
    {
     "name": "stdout",
     "output_type": "stream",
     "text": [
      "<class 'pandas.core.frame.DataFrame'>\n",
      "Index: 146144 entries, sunghursh to chicoalbuquerquerevelações\n",
      "Data columns (total 1 columns):\n",
      "tconst    146144 non-null object\n",
      "dtypes: object(1)\n",
      "memory usage: 2.2+ MB\n"
     ]
    }
   ],
   "source": [
    "title_df.info()"
   ]
  },
  {
   "cell_type": "markdown",
   "metadata": {},
   "source": [
    "Let's merge 'em"
   ]
  },
  {
   "cell_type": "code",
   "execution_count": 140,
   "metadata": {},
   "outputs": [
    {
     "name": "stdout",
     "output_type": "stream",
     "text": [
      "<class 'pandas.core.frame.DataFrame'>\n",
      "Int64Index: 7086 entries, 0 to 7085\n",
      "Data columns (total 8 columns):\n",
      "id                   7086 non-null int64\n",
      "release_date         7086 non-null datetime64[ns]\n",
      "movie                7086 non-null object\n",
      "production_budget    7086 non-null int64\n",
      "domestic_gross       7086 non-null int64\n",
      "worldwide_gross      7086 non-null int64\n",
      "movie_name           7086 non-null object\n",
      "tconst               3853 non-null object\n",
      "dtypes: datetime64[ns](1), int64(4), object(3)\n",
      "memory usage: 498.2+ KB\n"
     ]
    }
   ],
   "source": [
    "budget_chungus = pd.merge(budget_df, title_df, on = 'movie_name', how ='left')\n",
    "budget_chungus.info()"
   ]
  },
  {
   "cell_type": "code",
   "execution_count": 144,
   "metadata": {},
   "outputs": [
    {
     "data": {
      "text/html": [
       "<div>\n",
       "<style scoped>\n",
       "    .dataframe tbody tr th:only-of-type {\n",
       "        vertical-align: middle;\n",
       "    }\n",
       "\n",
       "    .dataframe tbody tr th {\n",
       "        vertical-align: top;\n",
       "    }\n",
       "\n",
       "    .dataframe thead th {\n",
       "        text-align: right;\n",
       "    }\n",
       "</style>\n",
       "<table border=\"1\" class=\"dataframe\">\n",
       "  <thead>\n",
       "    <tr style=\"text-align: right;\">\n",
       "      <th></th>\n",
       "      <th>id</th>\n",
       "      <th>release_date</th>\n",
       "      <th>movie</th>\n",
       "      <th>production_budget</th>\n",
       "      <th>domestic_gross</th>\n",
       "      <th>worldwide_gross</th>\n",
       "      <th>movie_name</th>\n",
       "      <th>tconst</th>\n",
       "    </tr>\n",
       "  </thead>\n",
       "  <tbody>\n",
       "    <tr>\n",
       "      <td>0</td>\n",
       "      <td>82</td>\n",
       "      <td>2005-08-05</td>\n",
       "      <td>My Date With Drew</td>\n",
       "      <td>1100</td>\n",
       "      <td>181041</td>\n",
       "      <td>181041</td>\n",
       "      <td>mydatewithdrew</td>\n",
       "      <td>NaN</td>\n",
       "    </tr>\n",
       "    <tr>\n",
       "      <td>1</td>\n",
       "      <td>81</td>\n",
       "      <td>2015-09-29</td>\n",
       "      <td>A Plague So Pleasant</td>\n",
       "      <td>1400</td>\n",
       "      <td>0</td>\n",
       "      <td>0</td>\n",
       "      <td>aplaguesopleasant</td>\n",
       "      <td>tt2107644</td>\n",
       "    </tr>\n",
       "    <tr>\n",
       "      <td>2</td>\n",
       "      <td>80</td>\n",
       "      <td>2005-07-13</td>\n",
       "      <td>Return to the Land of Wonders</td>\n",
       "      <td>5000</td>\n",
       "      <td>1338</td>\n",
       "      <td>1338</td>\n",
       "      <td>returntothelandofwonders</td>\n",
       "      <td>NaN</td>\n",
       "    </tr>\n",
       "    <tr>\n",
       "      <td>3</td>\n",
       "      <td>79</td>\n",
       "      <td>1999-04-02</td>\n",
       "      <td>Following</td>\n",
       "      <td>6000</td>\n",
       "      <td>48482</td>\n",
       "      <td>240495</td>\n",
       "      <td>following</td>\n",
       "      <td>NaN</td>\n",
       "    </tr>\n",
       "    <tr>\n",
       "      <td>4</td>\n",
       "      <td>77</td>\n",
       "      <td>2004-12-31</td>\n",
       "      <td>The Mongol King</td>\n",
       "      <td>7000</td>\n",
       "      <td>900</td>\n",
       "      <td>900</td>\n",
       "      <td>themongolking</td>\n",
       "      <td>NaN</td>\n",
       "    </tr>\n",
       "  </tbody>\n",
       "</table>\n",
       "</div>"
      ],
      "text/plain": [
       "   id release_date                          movie  production_budget  \\\n",
       "0  82   2005-08-05              My Date With Drew               1100   \n",
       "1  81   2015-09-29           A Plague So Pleasant               1400   \n",
       "2  80   2005-07-13  Return to the Land of Wonders               5000   \n",
       "3  79   1999-04-02                      Following               6000   \n",
       "4  77   2004-12-31                The Mongol King               7000   \n",
       "\n",
       "   domestic_gross  worldwide_gross                movie_name     tconst  \n",
       "0          181041           181041            mydatewithdrew        NaN  \n",
       "1               0                0         aplaguesopleasant  tt2107644  \n",
       "2            1338             1338  returntothelandofwonders        NaN  \n",
       "3           48482           240495                 following        NaN  \n",
       "4             900              900             themongolking        NaN  "
      ]
     },
     "execution_count": 144,
     "metadata": {},
     "output_type": "execute_result"
    }
   ],
   "source": [
    "budget_chungus.head()"
   ]
  },
  {
   "cell_type": "markdown",
   "metadata": {},
   "source": [
    "Let's CSV this chungus:"
   ]
  },
  {
   "cell_type": "code",
   "execution_count": 142,
   "metadata": {},
   "outputs": [],
   "source": [
    "budget_chungus.to_csv('./etl_csvs/budget_chungus.csv')"
   ]
  },
  {
   "cell_type": "code",
   "execution_count": null,
   "metadata": {},
   "outputs": [],
   "source": []
  }
 ],
 "metadata": {
  "kernelspec": {
   "display_name": "Python 3",
   "language": "python",
   "name": "python3"
  },
  "language_info": {
   "codemirror_mode": {
    "name": "ipython",
    "version": 3
   },
   "file_extension": ".py",
   "mimetype": "text/x-python",
   "name": "python",
   "nbconvert_exporter": "python",
   "pygments_lexer": "ipython3",
   "version": "3.6.9"
  }
 },
 "nbformat": 4,
 "nbformat_minor": 4
}
